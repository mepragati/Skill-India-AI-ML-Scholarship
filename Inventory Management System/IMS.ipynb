{
 "cells": [
  {
   "cell_type": "code",
   "execution_count": 8,
   "id": "002238cb",
   "metadata": {},
   "outputs": [],
   "source": [
    "import json"
   ]
  },
  {
   "cell_type": "code",
   "execution_count": 9,
   "id": "2dab2e17",
   "metadata": {},
   "outputs": [],
   "source": [
    "record = {100 : {\"name\": \"Banana\", \"exp_date\": \"10/09/2021\", \"category\": \"Fruits\", \"price\": 30, \"Qty\": 200},\n",
    "          101 : {\"name\": \"carrot\", \"exp_date\": \"14/09/2021\", \"category\": \"Veg\", \"price\": 60, \"Qty\": 500}, \n",
    "          102 : {\"name\": \"onion\", \"exp_date\": \"12/09/2021\", \"category\": \"Veg\", \"price\": 40, \"Qty\": 320}, \n",
    "         103 : {\"name\": \"Tshit\", \"exp_date\": \"16/09/2026\", \"category\": \"Fashion\", \"price\": 56, \"Qty\": 220}, \n",
    "         104 : {\"name\": \"Shirt\", \"exp_date\": \"12/12/2025\", \"category\": \"Fashion\", \"price\": 43, \"Qty\": 620}, \n",
    "         105 : {\"name\": \"Jeans\", \"exp_date\": \"12/04/2026\", \"category\": \"Fashion\", \"price\": 33, \"Qty\": 720}, \n",
    "         106 : {\"name\": \"Denim Jacket\", \"exp_date\": \"02/04/2026\", \"category\": \"Fashion\", \"price\": 33, \"Qty\": 120}, \n",
    "         107 : {\"name\": \"FacePack\", \"exp_date\": \"04/04/2022\", \"category\": \"BodyProd\", \"price\": 74, \"Qty\": 542}, \n",
    "         108 : {\"name\": \"FaceWash\", \"exp_date\": \"06/09/2022\", \"category\": \"BodyProd\", \"price\": 95, \"Qty\": 325}, \n",
    "         109 : {\"name\": \"Body lotion\", \"exp_date\": \"02/11/2022\", \"category\": \"BodyProd\", \"price\": 54, \"Qty\": 323}, \n",
    "         110 : {\"name\": \"lipstick\", \"exp_date\": \"09/12/2021\", \"category\": \"BodyProd\", \"price\": 43, \"Qty\": 55}, \n",
    "         111 : {\"name\": \"Face Powder\", \"exp_date\": \"12/09/2021\", \"category\": \"BodyProd\", \"price\": 65, \"Qty\": 788}, \n",
    "         112 : {\"name\": \"Cream\", \"exp_date\": \"12/09/2021\", \"category\": \"BodyProd\", \"price\": 54, \"Qty\": 98}, \n",
    "         113 : {\"name\": \"Shampoo\", \"exp_date\": \"12/09/2021\", \"category\": \"BodyProd\", \"price\": 32, \"Qty\": 677}, \n",
    "         114 : {\"name\": \"Lotion\", \"exp_date\": \"12/09/2021\", \"category\": \"BodyProd\", \"price\": 78, \"Qty\": 876}, \n",
    "         115 : {\"name\": \"Kitkat\", \"exp_date\": \"12/04/2022\", \"category\": \"Chocolate\", \"price\": 70, \"Qty\": 420}, \n",
    "         116 : {\"name\": \"DairyMilk\", \"exp_date\": \"09/10/2022\", \"category\": \"Chocolate\", \"price\": 30, \"Qty\": 520}, \n",
    "         117 : {\"name\": \"5Star\", \"exp_date\": \"05/09/2022\", \"category\": \"Chocolate\", \"price\": 20, \"Qty\": 50}, \n",
    "         118 : {\"name\": \"Park\", \"exp_date\": \"07/09/2022\", \"category\": \"Chocolate\", \"price\": 30, \"Qty\": 550}, \n",
    "         119 : {\"name\": \"Munch\", \"exp_date\": \"08/09/2022\", \"category\": \"Chocolate\", \"price\": 20, \"Qty\": 370}, \n",
    "         120 : {\"name\": \"Nike\", \"exp_date\": \"07/12/2034\", \"category\": \"Shoes\", \"price\": 11000, \"Qty\": 35}, \n",
    "         121 : {\"name\": \"Adidas\", \"exp_date\": \"07/12/2034\", \"category\": \"Shoes\", \"price\": 12000, \"Qty\": 31}, \n",
    "         122 : {\"name\": \"Reebok\", \"exp_date\": \"07/12/2034\", \"category\": \"Shoes\", \"price\": 16000, \"Qty\": 340}, \n",
    "         123 : {\"name\": \"CR7\", \"exp_date\": \"07/12/2034\", \"category\": \"Shoes\", \"price\": 31000, \"Qty\": 34}, \n",
    "         124 : {\"name\": \"HRX\", \"exp_date\": \"07/12/2034\", \"category\": \"Shoes\", \"price\": 14000, \"Qty\": 32}, \n",
    "         125 : {\"name\": \"Asics\", \"exp_date\": \"07/12/2034\", \"category\": \"Shoes\", \"price\": 41000, \"Qty\": 40}, \n",
    "         126 : {\"name\": \"Pablo\", \"exp_date\": \"07/12/2034\", \"category\": \"Shoes\", \"price\": 33000, \"Qty\": 140}, \n",
    "         127 : {\"name\": \"Iphone\", \"exp_date\": \"09/11/2040\", \"category\": \"smartphones\", \"price\": 90000, \"Qty\": 12}, \n",
    "         128 : {\"name\": \"Samsung\", \"exp_date\": \"09/11/2040\", \"category\": \"smartphones\", \"price\": 65000, \"Qty\": 20}, \n",
    "         129 : {\"name\": \"Vivo\", \"exp_date\": \"09/11/2040\", \"category\": \"smartphones\", \"price\": 44000, \"Qty\": 300}, \n",
    "         130 : {\"name\": \"Redmi\", \"exp_date\": \"09/11/2040\", \"category\": \"smartphones\", \"price\": 24000, \"Qty\": 120}}"
   ]
  },
  {
   "cell_type": "code",
   "execution_count": 10,
   "id": "89a21839",
   "metadata": {},
   "outputs": [
    {
     "name": "stdout",
     "output_type": "stream",
     "text": [
      "Enter Product Id: 131\n",
      "Enter name: Okra\n",
      "Enter expiry date: 22/09/2021\n",
      "Enter Category: Vegetables\n",
      "Enter Price: 40\n",
      "Enter Quantity: 32\n"
     ]
    }
   ],
   "source": [
    "# Here You can Add Data If you Wants To add\n",
    "pro_ID = int(input(\"Enter Product Id: \"))\n",
    "name = str(input(\"Enter name: \"))\n",
    "expiryDate = str(input(\"Enter expiry date: \"))\n",
    "categoryItem = str(input(\"Enter Category: \"))\n",
    "price = int(input(\"Enter Price: \"))\n",
    "Quantity = int(input(\"Enter Quantity: \"))\n",
    "\n",
    "for i in record:\n",
    "    if(i == pro_ID):\n",
    "        if(record[i]['name'] == name):\n",
    "            Quantity = record[i]['Qty'] + Quantity\n",
    "\n",
    "record[pro_ID] = {\"name\": name, \"exp_date\": expiryDate, \"category\": categoryItem, \"price\": price, \"Qty\": Quantity}"
   ]
  },
  {
   "cell_type": "code",
   "execution_count": 11,
   "id": "d8ca4bc5",
   "metadata": {},
   "outputs": [
    {
     "data": {
      "text/plain": [
       "{'name': 'Okra',\n",
       " 'exp_date': '22/09/2021',\n",
       " 'category': 'Vegetables',\n",
       " 'price': 40,\n",
       " 'Qty': 32}"
      ]
     },
     "execution_count": 11,
     "metadata": {},
     "output_type": "execute_result"
    }
   ],
   "source": [
    "record[131]"
   ]
  },
  {
   "cell_type": "code",
   "execution_count": 12,
   "id": "956297cd",
   "metadata": {},
   "outputs": [
    {
     "data": {
      "text/plain": [
       "{100: {'name': 'Banana',\n",
       "  'exp_date': '10/09/2021',\n",
       "  'category': 'Fruits',\n",
       "  'price': 30,\n",
       "  'Qty': 200},\n",
       " 101: {'name': 'carrot',\n",
       "  'exp_date': '14/09/2021',\n",
       "  'category': 'Veg',\n",
       "  'price': 60,\n",
       "  'Qty': 500},\n",
       " 102: {'name': 'onion',\n",
       "  'exp_date': '12/09/2021',\n",
       "  'category': 'Veg',\n",
       "  'price': 40,\n",
       "  'Qty': 320},\n",
       " 103: {'name': 'Tshit',\n",
       "  'exp_date': '16/09/2026',\n",
       "  'category': 'Fashion',\n",
       "  'price': 56,\n",
       "  'Qty': 220},\n",
       " 104: {'name': 'Shirt',\n",
       "  'exp_date': '12/12/2025',\n",
       "  'category': 'Fashion',\n",
       "  'price': 43,\n",
       "  'Qty': 620},\n",
       " 105: {'name': 'Jeans',\n",
       "  'exp_date': '12/04/2026',\n",
       "  'category': 'Fashion',\n",
       "  'price': 33,\n",
       "  'Qty': 720},\n",
       " 106: {'name': 'Denim Jacket',\n",
       "  'exp_date': '02/04/2026',\n",
       "  'category': 'Fashion',\n",
       "  'price': 33,\n",
       "  'Qty': 120},\n",
       " 107: {'name': 'FacePack',\n",
       "  'exp_date': '04/04/2022',\n",
       "  'category': 'BodyProd',\n",
       "  'price': 74,\n",
       "  'Qty': 542},\n",
       " 108: {'name': 'FaceWash',\n",
       "  'exp_date': '06/09/2022',\n",
       "  'category': 'BodyProd',\n",
       "  'price': 95,\n",
       "  'Qty': 325},\n",
       " 109: {'name': 'Body lotion',\n",
       "  'exp_date': '02/11/2022',\n",
       "  'category': 'BodyProd',\n",
       "  'price': 54,\n",
       "  'Qty': 323},\n",
       " 110: {'name': 'lipstick',\n",
       "  'exp_date': '09/12/2021',\n",
       "  'category': 'BodyProd',\n",
       "  'price': 43,\n",
       "  'Qty': 55},\n",
       " 111: {'name': 'Face Powder',\n",
       "  'exp_date': '12/09/2021',\n",
       "  'category': 'BodyProd',\n",
       "  'price': 65,\n",
       "  'Qty': 788},\n",
       " 112: {'name': 'Cream',\n",
       "  'exp_date': '12/09/2021',\n",
       "  'category': 'BodyProd',\n",
       "  'price': 54,\n",
       "  'Qty': 98},\n",
       " 113: {'name': 'Shampoo',\n",
       "  'exp_date': '12/09/2021',\n",
       "  'category': 'BodyProd',\n",
       "  'price': 32,\n",
       "  'Qty': 677},\n",
       " 114: {'name': 'Lotion',\n",
       "  'exp_date': '12/09/2021',\n",
       "  'category': 'BodyProd',\n",
       "  'price': 78,\n",
       "  'Qty': 876},\n",
       " 115: {'name': 'Kitkat',\n",
       "  'exp_date': '12/04/2022',\n",
       "  'category': 'Chocolate',\n",
       "  'price': 70,\n",
       "  'Qty': 420},\n",
       " 116: {'name': 'DairyMilk',\n",
       "  'exp_date': '09/10/2022',\n",
       "  'category': 'Chocolate',\n",
       "  'price': 30,\n",
       "  'Qty': 520},\n",
       " 117: {'name': '5Star',\n",
       "  'exp_date': '05/09/2022',\n",
       "  'category': 'Chocolate',\n",
       "  'price': 20,\n",
       "  'Qty': 50},\n",
       " 118: {'name': 'Park',\n",
       "  'exp_date': '07/09/2022',\n",
       "  'category': 'Chocolate',\n",
       "  'price': 30,\n",
       "  'Qty': 550},\n",
       " 119: {'name': 'Munch',\n",
       "  'exp_date': '08/09/2022',\n",
       "  'category': 'Chocolate',\n",
       "  'price': 20,\n",
       "  'Qty': 370},\n",
       " 120: {'name': 'Nike',\n",
       "  'exp_date': '07/12/2034',\n",
       "  'category': 'Shoes',\n",
       "  'price': 11000,\n",
       "  'Qty': 35},\n",
       " 121: {'name': 'Adidas',\n",
       "  'exp_date': '07/12/2034',\n",
       "  'category': 'Shoes',\n",
       "  'price': 12000,\n",
       "  'Qty': 31},\n",
       " 122: {'name': 'Reebok',\n",
       "  'exp_date': '07/12/2034',\n",
       "  'category': 'Shoes',\n",
       "  'price': 16000,\n",
       "  'Qty': 340},\n",
       " 123: {'name': 'CR7',\n",
       "  'exp_date': '07/12/2034',\n",
       "  'category': 'Shoes',\n",
       "  'price': 31000,\n",
       "  'Qty': 34},\n",
       " 124: {'name': 'HRX',\n",
       "  'exp_date': '07/12/2034',\n",
       "  'category': 'Shoes',\n",
       "  'price': 14000,\n",
       "  'Qty': 32},\n",
       " 125: {'name': 'Asics',\n",
       "  'exp_date': '07/12/2034',\n",
       "  'category': 'Shoes',\n",
       "  'price': 41000,\n",
       "  'Qty': 40},\n",
       " 126: {'name': 'Pablo',\n",
       "  'exp_date': '07/12/2034',\n",
       "  'category': 'Shoes',\n",
       "  'price': 33000,\n",
       "  'Qty': 140},\n",
       " 127: {'name': 'Iphone',\n",
       "  'exp_date': '09/11/2040',\n",
       "  'category': 'smartphones',\n",
       "  'price': 90000,\n",
       "  'Qty': 12},\n",
       " 128: {'name': 'Samsung',\n",
       "  'exp_date': '09/11/2040',\n",
       "  'category': 'smartphones',\n",
       "  'price': 65000,\n",
       "  'Qty': 20},\n",
       " 129: {'name': 'Vivo',\n",
       "  'exp_date': '09/11/2040',\n",
       "  'category': 'smartphones',\n",
       "  'price': 44000,\n",
       "  'Qty': 300},\n",
       " 130: {'name': 'Redmi',\n",
       "  'exp_date': '09/11/2040',\n",
       "  'category': 'smartphones',\n",
       "  'price': 24000,\n",
       "  'Qty': 120},\n",
       " 131: {'name': 'Okra',\n",
       "  'exp_date': '22/09/2021',\n",
       "  'category': 'Vegetables',\n",
       "  'price': 40,\n",
       "  'Qty': 32}}"
      ]
     },
     "execution_count": 12,
     "metadata": {},
     "output_type": "execute_result"
    }
   ],
   "source": [
    "# Checking Updated Data\n",
    "record"
   ]
  },
  {
   "cell_type": "code",
   "execution_count": 13,
   "id": "8510c4aa",
   "metadata": {},
   "outputs": [
    {
     "name": "stdout",
     "output_type": "stream",
     "text": [
      "Enter Product ID: 131\n",
      "Enter Quantity: 3\n",
      "...............................\n",
      "Prod ID:  131\n",
      "Name:  Okra\n",
      "Price:  40\n",
      "Category:  Vegetables\n",
      "Expiry Date:  22/09/2021\n",
      "...............................\n",
      "Billing Amount:  120\n",
      "...............................\n"
     ]
    }
   ],
   "source": [
    "# BILLING\n",
    "prod_id = int(input(\"Enter Product ID: \"))\n",
    "prod_count = int(input(\"Enter Quantity: \"))\n",
    "\n",
    "for i in record:\n",
    "    if(prod_id == i):\n",
    "        print(\"...............................\")\n",
    "        print(\"Prod ID: \",i)\n",
    "        print(\"Name: \",record[i]['name'])\n",
    "        print(\"Price: \",record[i]['price'])\n",
    "        print(\"Category: \",record[i]['category'])\n",
    "        print(\"Expiry Date: \",record[i]['exp_date'])\n",
    "        print(\"...............................\")\n",
    "        print(\"Billing Amount: \", record[i]['price'] * prod_count)\n",
    "        print(\"...............................\")"
   ]
  },
  {
   "cell_type": "code",
   "execution_count": 18,
   "id": "33076755",
   "metadata": {},
   "outputs": [
    {
     "name": "stdout",
     "output_type": "stream",
     "text": [
      "['100,Banana,10/09/2021,Fruits,30,200\\n', '101,carrot,14/09/2021,Veg,60,500\\n', '102,onion,12/09/2021,Veg,40,320\\n', '103,Tshit,16/09/2026,Fashion,56,220\\n', '104,Shirt,12/12/2025,Fashion,43,620\\n', '105,Jeans,12/04/2026,Fashion,33,720\\n', '106,Denim Jacket,02/04/2026,Fashion,33,120\\n', '107,FacePack,04/04/2022,BodyProd,74,542\\n', '108,FaceWash,06/09/2022,BodyProd,95,325\\n', '109,Body lotion,02/11/2022,BodyProd,54,323\\n', '110,lipstick,09/12/2021,BodyProd,43,55\\n', '111,Face Powder,12/09/2021,BodyProd,65,788\\n', '112,Cream,12/09/2021,BodyProd,54,98\\n', '113,Shampoo,12/09/2021,BodyProd,32,677\\n', '114,Lotion,12/09/2021,BodyProd,78,876\\n', '115,Kitkat,12/04/2022,Chocolate,70,420\\n', '116,DairyMilk,09/10/2022,Chocolate,30,520\\n', '117,5Star,05/09/2022,Chocolate,20,50\\n', '118,Park,07/09/2022,Chocolate,30,550\\n', '119,Munch,08/09/2022,Chocolate,20,370\\n', '120,Nike,07/12/2034,Shoes,11000,35\\n', '121,Adidas,07/12/2034,Shoes,12000,31\\n', '122,Reebok,07/12/2034,Shoes,16000,340\\n', '123,CR7,07/12/2034,Shoes,31000,34\\n', '124,HRX,07/12/2034,Shoes,14000,32\\n', '125,Asics,07/12/2034,Shoes,41000,40\\n', '126,Pablo,07/12/2034,Shoes,33000,140\\n', '127,Iphone,09/11/2040,smartphones,90000,12\\n', '128,Samsung,09/11/2040,smartphones,65000,20\\n', '129,Vivo,09/11/2040,smartphones,44000,300\\n', '130,Redmi,09/11/2040,smartphones,24000,120\\n', '131,Okra,22/09/2021,Vegetables,40,17']\n"
     ]
    }
   ],
   "source": [
    "# Updating Sales Record\n",
    "new_record = []\n",
    "\n",
    "for i in record:\n",
    "    if(prod_id == i):\n",
    "        record[i]['Qty'] = (int(record[i]['Qty']) - prod_count)\n",
    "        \n",
    "    new_record.append(str(i) + \",\" + record[i]['name'] + \",\" + str(record[i]['exp_date']) + \",\" + record[i]['category'] + \",\" + str(record[i]['price']) + \",\" + str(record[i]['Qty']) + \"\\n\")\n",
    "new_record[-1] = new_record[-1][:-1]\n",
    "\n",
    "\n",
    "print(new_record)"
   ]
  },
  {
   "cell_type": "code",
   "execution_count": 19,
   "id": "57d730ad",
   "metadata": {},
   "outputs": [],
   "source": [
    "fd = open(\"records.json\", 'w')\n",
    "\n",
    "for i in new_record:\n",
    "    fd.write(i)\n",
    "\n",
    "fd.close()"
   ]
  },
  {
   "cell_type": "code",
   "execution_count": 20,
   "id": "89615825",
   "metadata": {},
   "outputs": [
    {
     "name": "stdout",
     "output_type": "stream",
     "text": [
      "{\"100\": {\"name\": \"Banana\", \"exp_date\": \"10/09/2021\", \"category\": \"Fruits\", \"price\": 30, \"Qty\": 200}, \"101\": {\"name\": \"carrot\", \"exp_date\": \"14/09/2021\", \"category\": \"Veg\", \"price\": 60, \"Qty\": 500}, \"102\": {\"name\": \"onion\", \"exp_date\": \"12/09/2021\", \"category\": \"Veg\", \"price\": 40, \"Qty\": 320}, \"103\": {\"name\": \"Tshit\", \"exp_date\": \"16/09/2026\", \"category\": \"Fashion\", \"price\": 56, \"Qty\": 220}, \"104\": {\"name\": \"Shirt\", \"exp_date\": \"12/12/2025\", \"category\": \"Fashion\", \"price\": 43, \"Qty\": 620}, \"105\": {\"name\": \"Jeans\", \"exp_date\": \"12/04/2026\", \"category\": \"Fashion\", \"price\": 33, \"Qty\": 720}, \"106\": {\"name\": \"Denim Jacket\", \"exp_date\": \"02/04/2026\", \"category\": \"Fashion\", \"price\": 33, \"Qty\": 120}, \"107\": {\"name\": \"FacePack\", \"exp_date\": \"04/04/2022\", \"category\": \"BodyProd\", \"price\": 74, \"Qty\": 542}, \"108\": {\"name\": \"FaceWash\", \"exp_date\": \"06/09/2022\", \"category\": \"BodyProd\", \"price\": 95, \"Qty\": 325}, \"109\": {\"name\": \"Body lotion\", \"exp_date\": \"02/11/2022\", \"category\": \"BodyProd\", \"price\": 54, \"Qty\": 323}, \"110\": {\"name\": \"lipstick\", \"exp_date\": \"09/12/2021\", \"category\": \"BodyProd\", \"price\": 43, \"Qty\": 55}, \"111\": {\"name\": \"Face Powder\", \"exp_date\": \"12/09/2021\", \"category\": \"BodyProd\", \"price\": 65, \"Qty\": 788}, \"112\": {\"name\": \"Cream\", \"exp_date\": \"12/09/2021\", \"category\": \"BodyProd\", \"price\": 54, \"Qty\": 98}, \"113\": {\"name\": \"Shampoo\", \"exp_date\": \"12/09/2021\", \"category\": \"BodyProd\", \"price\": 32, \"Qty\": 677}, \"114\": {\"name\": \"Lotion\", \"exp_date\": \"12/09/2021\", \"category\": \"BodyProd\", \"price\": 78, \"Qty\": 876}, \"115\": {\"name\": \"Kitkat\", \"exp_date\": \"12/04/2022\", \"category\": \"Chocolate\", \"price\": 70, \"Qty\": 420}, \"116\": {\"name\": \"DairyMilk\", \"exp_date\": \"09/10/2022\", \"category\": \"Chocolate\", \"price\": 30, \"Qty\": 520}, \"117\": {\"name\": \"5Star\", \"exp_date\": \"05/09/2022\", \"category\": \"Chocolate\", \"price\": 20, \"Qty\": 50}, \"118\": {\"name\": \"Park\", \"exp_date\": \"07/09/2022\", \"category\": \"Chocolate\", \"price\": 30, \"Qty\": 550}, \"119\": {\"name\": \"Munch\", \"exp_date\": \"08/09/2022\", \"category\": \"Chocolate\", \"price\": 20, \"Qty\": 370}, \"120\": {\"name\": \"Nike\", \"exp_date\": \"07/12/2034\", \"category\": \"Shoes\", \"price\": 11000, \"Qty\": 35}, \"121\": {\"name\": \"Adidas\", \"exp_date\": \"07/12/2034\", \"category\": \"Shoes\", \"price\": 12000, \"Qty\": 31}, \"122\": {\"name\": \"Reebok\", \"exp_date\": \"07/12/2034\", \"category\": \"Shoes\", \"price\": 16000, \"Qty\": 340}, \"123\": {\"name\": \"CR7\", \"exp_date\": \"07/12/2034\", \"category\": \"Shoes\", \"price\": 31000, \"Qty\": 34}, \"124\": {\"name\": \"HRX\", \"exp_date\": \"07/12/2034\", \"category\": \"Shoes\", \"price\": 14000, \"Qty\": 32}, \"125\": {\"name\": \"Asics\", \"exp_date\": \"07/12/2034\", \"category\": \"Shoes\", \"price\": 41000, \"Qty\": 40}, \"126\": {\"name\": \"Pablo\", \"exp_date\": \"07/12/2034\", \"category\": \"Shoes\", \"price\": 33000, \"Qty\": 140}, \"127\": {\"name\": \"Iphone\", \"exp_date\": \"09/11/2040\", \"category\": \"smartphones\", \"price\": 90000, \"Qty\": 12}, \"128\": {\"name\": \"Samsung\", \"exp_date\": \"09/11/2040\", \"category\": \"smartphones\", \"price\": 65000, \"Qty\": 20}, \"129\": {\"name\": \"Vivo\", \"exp_date\": \"09/11/2040\", \"category\": \"smartphones\", \"price\": 44000, \"Qty\": 300}, \"130\": {\"name\": \"Redmi\", \"exp_date\": \"09/11/2040\", \"category\": \"smartphones\", \"price\": 24000, \"Qty\": 120}, \"131\": {\"name\": \"Okra\", \"exp_date\": \"22/09/2021\", \"category\": \"Vegetables\", \"price\": 40, \"Qty\": 17}}\n"
     ]
    }
   ],
   "source": [
    "js = json.dumps(record)\n",
    "print(js)"
   ]
  },
  {
   "cell_type": "code",
   "execution_count": 25,
   "id": "bae0f0ca",
   "metadata": {},
   "outputs": [],
   "source": [
    "fd = open(\"inventory.json\", 'w')\n",
    "item_aval = fd.write(js)\n",
    "fd.close()"
   ]
  },
  {
   "cell_type": "code",
   "execution_count": 26,
   "id": "6856e387",
   "metadata": {},
   "outputs": [
    {
     "ename": "JSONDecodeError",
     "evalue": "Extra data: line 1 column 5 (char 4)",
     "output_type": "error",
     "traceback": [
      "\u001b[1;31m---------------------------------------------------------------------------\u001b[0m",
      "\u001b[1;31mJSONDecodeError\u001b[0m                           Traceback (most recent call last)",
      "\u001b[1;32m<ipython-input-26-41a078c972dd>\u001b[0m in \u001b[0;36m<module>\u001b[1;34m\u001b[0m\n\u001b[1;32m----> 1\u001b[1;33m \u001b[0mrecord\u001b[0m \u001b[1;33m=\u001b[0m \u001b[0mjson\u001b[0m\u001b[1;33m.\u001b[0m\u001b[0mloads\u001b[0m\u001b[1;33m(\u001b[0m\u001b[0mtxt\u001b[0m\u001b[1;33m)\u001b[0m\u001b[1;33m\u001b[0m\u001b[1;33m\u001b[0m\u001b[0m\n\u001b[0m",
      "\u001b[1;32m~\\anaconda3\\lib\\json\\__init__.py\u001b[0m in \u001b[0;36mloads\u001b[1;34m(s, cls, object_hook, parse_float, parse_int, parse_constant, object_pairs_hook, **kw)\u001b[0m\n\u001b[0;32m    355\u001b[0m             \u001b[0mparse_int\u001b[0m \u001b[1;32mis\u001b[0m \u001b[1;32mNone\u001b[0m \u001b[1;32mand\u001b[0m \u001b[0mparse_float\u001b[0m \u001b[1;32mis\u001b[0m \u001b[1;32mNone\u001b[0m \u001b[1;32mand\u001b[0m\u001b[1;33m\u001b[0m\u001b[1;33m\u001b[0m\u001b[0m\n\u001b[0;32m    356\u001b[0m             parse_constant is None and object_pairs_hook is None and not kw):\n\u001b[1;32m--> 357\u001b[1;33m         \u001b[1;32mreturn\u001b[0m \u001b[0m_default_decoder\u001b[0m\u001b[1;33m.\u001b[0m\u001b[0mdecode\u001b[0m\u001b[1;33m(\u001b[0m\u001b[0ms\u001b[0m\u001b[1;33m)\u001b[0m\u001b[1;33m\u001b[0m\u001b[1;33m\u001b[0m\u001b[0m\n\u001b[0m\u001b[0;32m    358\u001b[0m     \u001b[1;32mif\u001b[0m \u001b[0mcls\u001b[0m \u001b[1;32mis\u001b[0m \u001b[1;32mNone\u001b[0m\u001b[1;33m:\u001b[0m\u001b[1;33m\u001b[0m\u001b[1;33m\u001b[0m\u001b[0m\n\u001b[0;32m    359\u001b[0m         \u001b[0mcls\u001b[0m \u001b[1;33m=\u001b[0m \u001b[0mJSONDecoder\u001b[0m\u001b[1;33m\u001b[0m\u001b[1;33m\u001b[0m\u001b[0m\n",
      "\u001b[1;32m~\\anaconda3\\lib\\json\\decoder.py\u001b[0m in \u001b[0;36mdecode\u001b[1;34m(self, s, _w)\u001b[0m\n\u001b[0;32m    338\u001b[0m         \u001b[0mend\u001b[0m \u001b[1;33m=\u001b[0m \u001b[0m_w\u001b[0m\u001b[1;33m(\u001b[0m\u001b[0ms\u001b[0m\u001b[1;33m,\u001b[0m \u001b[0mend\u001b[0m\u001b[1;33m)\u001b[0m\u001b[1;33m.\u001b[0m\u001b[0mend\u001b[0m\u001b[1;33m(\u001b[0m\u001b[1;33m)\u001b[0m\u001b[1;33m\u001b[0m\u001b[1;33m\u001b[0m\u001b[0m\n\u001b[0;32m    339\u001b[0m         \u001b[1;32mif\u001b[0m \u001b[0mend\u001b[0m \u001b[1;33m!=\u001b[0m \u001b[0mlen\u001b[0m\u001b[1;33m(\u001b[0m\u001b[0ms\u001b[0m\u001b[1;33m)\u001b[0m\u001b[1;33m:\u001b[0m\u001b[1;33m\u001b[0m\u001b[1;33m\u001b[0m\u001b[0m\n\u001b[1;32m--> 340\u001b[1;33m             \u001b[1;32mraise\u001b[0m \u001b[0mJSONDecodeError\u001b[0m\u001b[1;33m(\u001b[0m\u001b[1;34m\"Extra data\"\u001b[0m\u001b[1;33m,\u001b[0m \u001b[0ms\u001b[0m\u001b[1;33m,\u001b[0m \u001b[0mend\u001b[0m\u001b[1;33m)\u001b[0m\u001b[1;33m\u001b[0m\u001b[1;33m\u001b[0m\u001b[0m\n\u001b[0m\u001b[0;32m    341\u001b[0m         \u001b[1;32mreturn\u001b[0m \u001b[0mobj\u001b[0m\u001b[1;33m\u001b[0m\u001b[1;33m\u001b[0m\u001b[0m\n\u001b[0;32m    342\u001b[0m \u001b[1;33m\u001b[0m\u001b[0m\n",
      "\u001b[1;31mJSONDecodeError\u001b[0m: Extra data: line 1 column 5 (char 4)"
     ]
    }
   ],
   "source": [
    "record = json.loads(txt)"
   ]
  },
  {
   "cell_type": "code",
   "execution_count": null,
   "id": "662e3381",
   "metadata": {},
   "outputs": [],
   "source": []
  }
 ],
 "metadata": {
  "kernelspec": {
   "display_name": "Python 3",
   "language": "python",
   "name": "python3"
  },
  "language_info": {
   "codemirror_mode": {
    "name": "ipython",
    "version": 3
   },
   "file_extension": ".py",
   "mimetype": "text/x-python",
   "name": "python",
   "nbconvert_exporter": "python",
   "pygments_lexer": "ipython3",
   "version": "3.8.8"
  }
 },
 "nbformat": 4,
 "nbformat_minor": 5
}
